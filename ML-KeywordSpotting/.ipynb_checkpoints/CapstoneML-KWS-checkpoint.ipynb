{
 "cells": [
  {
   "cell_type": "markdown",
   "id": "fe956ff9",
   "metadata": {},
   "source": [
    "# Keyword Spotting Model - Homespace Capstone"
   ]
  },
  {
   "cell_type": "markdown",
   "id": "aeca0290",
   "metadata": {},
   "source": [
    "### by ReDay Zarra"
   ]
  },
  {
   "cell_type": "markdown",
   "id": "837f95b8",
   "metadata": {},
   "source": [
    "## Importing Libraries"
   ]
  },
  {
   "cell_type": "code",
   "execution_count": 1,
   "id": "14023cb7",
   "metadata": {},
   "outputs": [],
   "source": [
    "import tensorflow as tf\n",
    "from keras.preprocessing.image import ImageDataGenerator"
   ]
  },
  {
   "cell_type": "code",
   "execution_count": 2,
   "id": "d943cbc7",
   "metadata": {},
   "outputs": [
    {
     "data": {
      "text/plain": [
       "'2.11.0'"
      ]
     },
     "execution_count": 2,
     "metadata": {},
     "output_type": "execute_result"
    }
   ],
   "source": [
    "tf.__version__"
   ]
  },
  {
   "cell_type": "markdown",
   "id": "857af84f",
   "metadata": {},
   "source": [
    "## Data Preprocessing"
   ]
  },
  {
   "cell_type": "code",
   "execution_count": 3,
   "id": "c47fc783",
   "metadata": {},
   "outputs": [
    {
     "name": "stdout",
     "output_type": "stream",
     "text": [
      "Found 0 images belonging to 3 classes.\n"
     ]
    }
   ],
   "source": [
    "train_datagen = ImageDataGenerator(\n",
    "    rescale = 1./255, # Feature Scaling\n",
    "    shear_range = 0.2,\n",
    "    zoom_range = 0.2,\n",
    "    horizontal_flip = True\n",
    ")\n",
    "\n",
    "test_datagen = ImageDataGenerator(rescale=1./255)\n",
    "\n",
    "training_set = train_datagen.flow_from_directory(\n",
    "    \"data/train\",\n",
    "    target_size = (64, 64),\n",
    "    batch_size = 16,\n",
    "    class_mode = \"categorical\",\n",
    "    classes = ['Aberto', 'Background Noise', 'Silencio'] \n",
    ")\n",
    "\n",
    "validation_set = test_datagen.flow_from_directory(\n",
    "    \"data/validation\",\n",
    "    target_size = (64, 64),\n",
    "    batch_size = 16,\n",
    "    class_mode = \"categorical\",\n",
    "    classes = ['Aberto', 'Background Noise', 'Silencio']\n",
    ")\n",
    "\n",
    "test_set = test_datagen.flow_from_directory(\n",
    "    \"data/test\",\n",
    "    target_size = (64, 64),\n",
    "    batch_size = 16,\n",
    "    class_mode = \"categorical\",\n",
    "    classes = ['Aberto', 'Background Noise', 'Silencio'], \n",
    "    shuffle=False # Set shuffle to False to keep the order of test images for evaluation\n",
    ")"
   ]
  }
 ],
 "metadata": {
  "kernelspec": {
   "display_name": "Python 3 (ipykernel)",
   "language": "python",
   "name": "python3"
  },
  "language_info": {
   "codemirror_mode": {
    "name": "ipython",
    "version": 3
   },
   "file_extension": ".py",
   "mimetype": "text/x-python",
   "name": "python",
   "nbconvert_exporter": "python",
   "pygments_lexer": "ipython3",
   "version": "3.9.13"
  }
 },
 "nbformat": 4,
 "nbformat_minor": 5
}
