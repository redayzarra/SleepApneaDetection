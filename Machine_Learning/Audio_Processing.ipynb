{
  "nbformat": 4,
  "nbformat_minor": 0,
  "metadata": {
    "colab": {
      "provenance": []
    },
    "kernelspec": {
      "name": "python3",
      "display_name": "Python 3"
    },
    "language_info": {
      "name": "python"
    }
  },
  "cells": [
    {
      "cell_type": "markdown",
      "source": [
        "# Convert Audio Files to Spectograms\n"
      ],
      "metadata": {
        "id": "K9ZSoeKkfsGZ"
      }
    },
    {
      "cell_type": "markdown",
      "source": [
        "Explain process"
      ],
      "metadata": {
        "id": "K_NP47BjwcJl"
      }
    },
    {
      "cell_type": "markdown",
      "source": [
        "## Install libraries"
      ],
      "metadata": {
        "id": "kTeZEZRMv10N"
      }
    },
    {
      "cell_type": "code",
      "execution_count": 1,
      "metadata": {
        "id": "Z-2f9AQnfoGh",
        "colab": {
          "base_uri": "https://localhost:8080/"
        },
        "outputId": "3cc1f766-3a3b-4b6e-8a85-5bf880ff4b45"
      },
      "outputs": [
        {
          "output_type": "stream",
          "name": "stdout",
          "text": [
            "Packages Installed\n"
          ]
        }
      ],
      "source": [
        "!pip install ffmpeg-python &> 0\n",
        "!pip install tensorflow-io &> 0\n",
        "!pip install python_speech_features &> 0\n",
        "print(\"Packages Installed\")"
      ]
    },
    {
      "cell_type": "markdown",
      "source": [
        "Explain libraries"
      ],
      "metadata": {
        "id": "v7RzQKEGwhLF"
      }
    },
    {
      "cell_type": "markdown",
      "source": [
        "## Import packages"
      ],
      "metadata": {
        "id": "v1NGiP8Cw4al"
      }
    },
    {
      "cell_type": "code",
      "source": [
        "# Audio Processing\n",
        "from IPython.display import HTML, Audio\n",
        "from scipy.io.wavfile import read as wav_read\n",
        "from python_speech_features import mfcc\n",
        "import ffmpeg\n",
        "import librosa\n",
        "\n",
        "# Encoding\n",
        "from base64 import b64decode\n",
        "\n",
        "# Evaluation\n",
        "from google.colab.output import eval_js\n",
        "import io\n",
        "\n",
        "# Tensorflow\n",
        "import tensorflow as tf\n",
        "import tensorflow_io as tfio\n",
        "\n",
        "# Data Visualization and Numercial Analysis\n",
        "import numpy as np\n",
        "import matplotlib.pyplot as plt\n",
        "from matplotlib import cm\n",
        "\n",
        "# Loading data\n",
        "import pickle\n",
        "\n",
        "print(\"Packages Imported\")"
      ],
      "metadata": {
        "colab": {
          "base_uri": "https://localhost:8080/"
        },
        "id": "ysYm7tCWw67_",
        "outputId": "853e0a96-b864-422e-85cb-ee5dc1437188"
      },
      "execution_count": 2,
      "outputs": [
        {
          "output_type": "stream",
          "name": "stderr",
          "text": [
            "/usr/local/lib/python3.8/dist-packages/tensorflow_io/python/ops/__init__.py:98: UserWarning: unable to load libtensorflow_io_plugins.so: unable to open file: libtensorflow_io_plugins.so, from paths: ['/usr/local/lib/python3.8/dist-packages/tensorflow_io/python/ops/libtensorflow_io_plugins.so']\n",
            "caused by: ['/usr/local/lib/python3.8/dist-packages/tensorflow_io/python/ops/libtensorflow_io_plugins.so: undefined symbol: _ZN3tsl5mutexC1Ev']\n",
            "  warnings.warn(f\"unable to load libtensorflow_io_plugins.so: {e}\")\n",
            "/usr/local/lib/python3.8/dist-packages/tensorflow_io/python/ops/__init__.py:104: UserWarning: file system plugins are not loaded: unable to open file: libtensorflow_io.so, from paths: ['/usr/local/lib/python3.8/dist-packages/tensorflow_io/python/ops/libtensorflow_io.so']\n",
            "caused by: ['/usr/local/lib/python3.8/dist-packages/tensorflow_io/python/ops/libtensorflow_io.so: undefined symbol: _ZNK10tensorflow4data11DatasetBase8FinalizeEPNS_15OpKernelContextESt8functionIFN3tsl8StatusOrISt10unique_ptrIS1_NS5_4core15RefCountDeleterEEEEvEE']\n",
            "  warnings.warn(f\"file system plugins are not loaded: {e}\")\n"
          ]
        },
        {
          "output_type": "stream",
          "name": "stdout",
          "text": [
            "Packages Imported\n"
          ]
        }
      ]
    },
    {
      "cell_type": "markdown",
      "source": [
        "Explain packages"
      ],
      "metadata": {
        "id": "tSlsyYTCx_It"
      }
    }
  ]
}