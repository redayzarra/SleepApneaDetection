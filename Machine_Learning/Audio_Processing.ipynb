{
  "nbformat": 4,
  "nbformat_minor": 0,
  "metadata": {
    "colab": {
      "provenance": []
    },
    "kernelspec": {
      "name": "python3",
      "display_name": "Python 3"
    },
    "language_info": {
      "name": "python"
    }
  },
  "cells": [
    {
      "cell_type": "markdown",
      "source": [
        "# Convert Audio Files to Spectograms\n"
      ],
      "metadata": {
        "id": "K9ZSoeKkfsGZ"
      }
    },
    {
      "cell_type": "markdown",
      "source": [
        "Explain process"
      ],
      "metadata": {
        "id": "K_NP47BjwcJl"
      }
    },
    {
      "cell_type": "markdown",
      "source": [
        "## Install libraries"
      ],
      "metadata": {
        "id": "kTeZEZRMv10N"
      }
    },
    {
      "cell_type": "code",
      "execution_count": null,
      "metadata": {
        "id": "Z-2f9AQnfoGh",
        "colab": {
          "base_uri": "https://localhost:8080/"
        },
        "outputId": "3cc1f766-3a3b-4b6e-8a85-5bf880ff4b45"
      },
      "outputs": [
        {
          "output_type": "stream",
          "name": "stdout",
          "text": [
            "Packages Installed\n"
          ]
        }
      ],
      "source": [
        "!pip install ffmpeg-python &> 0\n",
        "!pip install tensorflow-io &> 0\n",
        "!pip install python_speech_features &> 0\n",
        "print(\"Packages Installed\")"
      ]
    },
    {
      "cell_type": "markdown",
      "source": [
        "Explain libraries"
      ],
      "metadata": {
        "id": "v7RzQKEGwhLF"
      }
    },
    {
      "cell_type": "markdown",
      "source": [
        "## Import packages"
      ],
      "metadata": {
        "id": "v1NGiP8Cw4al"
      }
    },
    {
      "cell_type": "code",
      "source": [
        "# Audio Processing\n",
        "from IPython.display import HTML, Audio\n",
        "from scipy.io.wavfile import read as wav_read\n",
        "from python_speech_features import mfcc\n",
        "import ffmpeg\n",
        "import librosa\n",
        "\n",
        "# Encoding\n",
        "from base64 import b64decode\n",
        "\n",
        "# Evaluation\n",
        "from google.colab.output import eval_js\n",
        "import io\n",
        "\n",
        "# Tensorflow\n",
        "import tensorflow as tf\n",
        "import tensorflow_io as tfio\n",
        "\n",
        "# Data Visualization and Numercial Analysis\n",
        "import numpy as np\n",
        "import matplotlib.pyplot as plt\n",
        "from matplotlib import cm\n",
        "\n",
        "# Loading data\n",
        "import pickle\n",
        "\n",
        "print(\"Packages Imported\")"
      ],
      "metadata": {
        "colab": {
          "base_uri": "https://localhost:8080/"
        },
        "id": "ysYm7tCWw67_",
        "outputId": "853e0a96-b864-422e-85cb-ee5dc1437188"
      },
      "execution_count": null,
      "outputs": [
        {
          "output_type": "stream",
          "name": "stderr",
          "text": [
            "/usr/local/lib/python3.8/dist-packages/tensorflow_io/python/ops/__init__.py:98: UserWarning: unable to load libtensorflow_io_plugins.so: unable to open file: libtensorflow_io_plugins.so, from paths: ['/usr/local/lib/python3.8/dist-packages/tensorflow_io/python/ops/libtensorflow_io_plugins.so']\n",
            "caused by: ['/usr/local/lib/python3.8/dist-packages/tensorflow_io/python/ops/libtensorflow_io_plugins.so: undefined symbol: _ZN3tsl5mutexC1Ev']\n",
            "  warnings.warn(f\"unable to load libtensorflow_io_plugins.so: {e}\")\n",
            "/usr/local/lib/python3.8/dist-packages/tensorflow_io/python/ops/__init__.py:104: UserWarning: file system plugins are not loaded: unable to open file: libtensorflow_io.so, from paths: ['/usr/local/lib/python3.8/dist-packages/tensorflow_io/python/ops/libtensorflow_io.so']\n",
            "caused by: ['/usr/local/lib/python3.8/dist-packages/tensorflow_io/python/ops/libtensorflow_io.so: undefined symbol: _ZNK10tensorflow4data11DatasetBase8FinalizeEPNS_15OpKernelContextESt8functionIFN3tsl8StatusOrISt10unique_ptrIS1_NS5_4core15RefCountDeleterEEEEvEE']\n",
            "  warnings.warn(f\"file system plugins are not loaded: {e}\")\n"
          ]
        },
        {
          "output_type": "stream",
          "name": "stdout",
          "text": [
            "Packages Imported\n"
          ]
        }
      ]
    },
    {
      "cell_type": "markdown",
      "source": [
        "Explain packages"
      ],
      "metadata": {
        "id": "tSlsyYTCx_It"
      }
    },
    {
      "cell_type": "markdown",
      "source": [
        "## Define the Audio Importing Function"
      ],
      "metadata": {
        "id": "QJTOeDqO1Zx-"
      }
    },
    {
      "cell_type": "code",
      "source": [
        "AUDIO_HTML = \"\"\"\n",
        "<script>\n",
        "var my_div = document.createElement(\"DIV\");\n",
        "var my_p = document.createElement(\"P\");\n",
        "var my_btn = document.createElement(\"BUTTON\");\n",
        "var t = document.createTextNode(\"Press to start recording\");\n",
        "\n",
        "my_btn.appendChild(t);\n",
        "//my_p.appendChild(my_btn);\n",
        "my_div.appendChild(my_btn);\n",
        "document.body.appendChild(my_div);\n",
        "\n",
        "var base64data = 0;\n",
        "var reader;\n",
        "var recorder, gumStream;\n",
        "var recordButton = my_btn;\n",
        "\n",
        "var handleSuccess = function(stream) {\n",
        "  gumStream = stream;\n",
        "  var options = {\n",
        "    //bitsPerSecond: 8000, //chrome seems to ignore, always 48k\n",
        "    mimeType : 'audio/webm;codecs=opus'\n",
        "    //mimeType : 'audio/webm;codecs=pcm'\n",
        "  };            \n",
        "  //recorder = new MediaRecorder(stream, options);\n",
        "  recorder = new MediaRecorder(stream);\n",
        "  recorder.ondataavailable = function(e) {            \n",
        "    var url = URL.createObjectURL(e.data);\n",
        "    var preview = document.createElement('audio');\n",
        "    preview.controls = true;\n",
        "    preview.src = url;\n",
        "    document.body.appendChild(preview);\n",
        "\n",
        "    reader = new FileReader();\n",
        "    reader.readAsDataURL(e.data); \n",
        "    reader.onloadend = function() {\n",
        "      base64data = reader.result;\n",
        "      //console.log(\"Inside FileReader:\" + base64data);\n",
        "    }\n",
        "  };\n",
        "  recorder.start();\n",
        "  };\n",
        "\n",
        "recordButton.innerText = \"Recording... press to stop\";\n",
        "\n",
        "navigator.mediaDevices.getUserMedia({audio: true}).then(handleSuccess);\n",
        "\n",
        "\n",
        "function toggleRecording() {\n",
        "  if (recorder && recorder.state == \"recording\") {\n",
        "      recorder.stop();\n",
        "      gumStream.getAudioTracks()[0].stop();\n",
        "      recordButton.innerText = \"Saving the recording... pls wait!\"\n",
        "  }\n",
        "}\n",
        "\n",
        "// https://stackoverflow.com/a/951057\n",
        "function sleep(ms) {\n",
        "  return new Promise(resolve => setTimeout(resolve, ms));\n",
        "}\n",
        "\n",
        "var data = new Promise(resolve=>{\n",
        "//recordButton.addEventListener(\"click\", toggleRecording);\n",
        "recordButton.onclick = ()=>{\n",
        "toggleRecording()\n",
        "\n",
        "sleep(2000).then(() => {\n",
        "  // wait 2000ms for the data to be available...\n",
        "  // ideally this should use something like await...\n",
        "  //console.log(\"Inside data:\" + base64data)\n",
        "  resolve(base64data.toString())\n",
        "\n",
        "});\n",
        "\n",
        "}\n",
        "});\n",
        "      \n",
        "</script>\n",
        "\"\"\"\n",
        "\n",
        "def get_audio():\n",
        "  display(HTML(AUDIO_HTML))\n",
        "  data = eval_js(\"data\")\n",
        "  binary = b64decode(data.split(',')[1])\n",
        "  \n",
        "  process = (ffmpeg\n",
        "    .input('pipe:0')\n",
        "    .output('pipe:1', format='wav')\n",
        "    .run_async(pipe_stdin=True, pipe_stdout=True, pipe_stderr=True, quiet=True, overwrite_output=True)\n",
        "  )\n",
        "  output, err = process.communicate(input=binary)\n",
        "  \n",
        "  riff_chunk_size = len(output) - 8\n",
        "  # Break up the chunk size into four bytes, held in b.\n",
        "  q = riff_chunk_size\n",
        "  b = []\n",
        "  for i in range(4):\n",
        "      q, r = divmod(q, 256)\n",
        "      b.append(r)\n",
        "\n",
        "  # Replace bytes 4:8 in proc.stdout with the actual size of the RIFF chunk.\n",
        "  riff = output[:4] + bytes(b) + output[8:]\n",
        "\n",
        "  sr, audio = wav_read(io.BytesIO(riff))\n",
        "\n",
        "  return audio, sr\n",
        "\n",
        "print(\"Chrome Audio Recorder Defined\")"
      ],
      "metadata": {
        "colab": {
          "base_uri": "https://localhost:8080/"
        },
        "id": "COBqOfRz1ggZ",
        "outputId": "38770a94-c070-47ba-b544-c7bb83583475"
      },
      "execution_count": 1,
      "outputs": [
        {
          "output_type": "stream",
          "name": "stdout",
          "text": [
            "Chrome Audio Recorder Defined\n"
          ]
        }
      ]
    },
    {
      "cell_type": "markdown",
      "source": [
        "## Record audio files"
      ],
      "metadata": {
        "id": "5MMvb0wSvpFu"
      }
    },
    {
      "cell_type": "code",
      "source": [
        "audio_yes_loud, sr_yes_loud = get_audio()\n",
        "print(\"DONE\")"
      ],
      "metadata": {
        "id": "pyT7P1Jbvuat"
      },
      "execution_count": null,
      "outputs": []
    },
    {
      "cell_type": "code",
      "source": [
        "audio_yes_quiet, sr_yes_quiet = get_audio()\n",
        "print(\"DONE\")"
      ],
      "metadata": {
        "id": "I9drbjCLvvjE"
      },
      "execution_count": null,
      "outputs": []
    },
    {
      "cell_type": "code",
      "source": [
        "audio_no_loud, sr_no_loud = get_audio()\n",
        "print(\"DONE\")"
      ],
      "metadata": {
        "id": "xugWtS53vyhs"
      },
      "execution_count": null,
      "outputs": []
    },
    {
      "cell_type": "code",
      "source": [
        "audio_no_quiet, sr_no_quiet = get_audio()\n",
        "print(\"DONE\")"
      ],
      "metadata": {
        "id": "u1lfXFAYvzMF"
      },
      "execution_count": null,
      "outputs": []
    },
    {
      "cell_type": "markdown",
      "source": [
        "## Visualize the audio"
      ],
      "metadata": {
        "id": "enEFozkrv-k0"
      }
    },
    {
      "cell_type": "markdown",
      "source": [
        "Signals"
      ],
      "metadata": {
        "id": "P2Jqd3lbwHQc"
      }
    },
    {
      "cell_type": "code",
      "source": [
        "# Plot the figure\n",
        "fig, ((ax1, ax2), (ax3, ax4)) = plt.subplots(nrows=2, ncols=2)\n",
        "max_val = max(np.append(np.append(np.append(audio_yes_loud,audio_yes_quiet),audio_no_loud),audio_no_quiet))\n",
        "ax1.plot(audio_yes_loud)\n",
        "ax1.set_title(\"Yes Loud\", {'fontsize':20, 'fontweight':'bold'})\n",
        "ax1.set_ylim(-max_val, max_val)\n",
        "ax2.plot(audio_yes_quiet)\n",
        "ax2.set_title(\"Yes Quiet\", {'fontsize':20, 'fontweight':'bold'})\n",
        "ax2.set_ylim(-max_val, max_val)\n",
        "ax3.plot(audio_no_loud)\n",
        "ax3.set_title(\"No Loud\", {'fontsize':20, 'fontweight':'bold'})\n",
        "ax3.set_ylim(-max_val, max_val)\n",
        "ax4.plot(audio_no_quiet)\n",
        "ax4.set_title(\"No Quiet\", {'fontsize':20, 'fontweight':'bold'})\n",
        "ax4.set_ylim(-max_val, max_val)\n",
        "fig.set_size_inches(18,12)"
      ],
      "metadata": {
        "id": "aG8yFo1swDl0"
      },
      "execution_count": null,
      "outputs": []
    },
    {
      "cell_type": "markdown",
      "source": [
        "Fourier Transfrom"
      ],
      "metadata": {
        "id": "R8U-wq8awJbc"
      }
    },
    {
      "cell_type": "code",
      "source": [
        "#Adapted from https://makersportal.com/blog/2018/9/13/audio-processing-in-python-part-i-sampling-and-the-fast-fourier-transform\n",
        "# compute the FFT and take the single-sided spectrum only and remove imaginary part\n",
        "fig, ((ax1, ax2), (ax3, ax4)) = plt.subplots(nrows=2, ncols=2)\n",
        "ft_audio_yes_loud = np.abs(2*np.fft.fft(audio_yes_loud))\n",
        "ft_audio_yes_quiet = np.abs(2*np.fft.fft(audio_yes_quiet))\n",
        "ft_audio_no_loud = np.abs(2*np.fft.fft(audio_no_loud))\n",
        "ft_audio_no_quiet = np.abs(2*np.fft.fft(audio_no_quiet))\n",
        "\n",
        "# Plot the figure\n",
        "ax1.plot(ft_audio_yes_loud)\n",
        "ax1.set_xscale('log')\n",
        "ax1.set_yscale('log')\n",
        "ax1.set_title(\"Yes Loud\", {'fontsize':20, 'fontweight':'bold'})\n",
        "ax2.plot(ft_audio_yes_quiet)\n",
        "ax2.set_xscale('log')\n",
        "ax2.set_yscale('log')\n",
        "ax2.set_title(\"Yes Quiet\", {'fontsize':20, 'fontweight':'bold'})\n",
        "ax3.plot(ft_audio_no_loud)\n",
        "ax3.set_xscale('log')\n",
        "ax3.set_yscale('log')\n",
        "ax3.set_title(\"No Loud\", {'fontsize':20, 'fontweight':'bold'})\n",
        "ax4.plot(ft_audio_no_quiet)\n",
        "ax4.set_xscale('log')\n",
        "ax4.set_yscale('log')\n",
        "ax4.set_title(\"No Quiet\", {'fontsize':20, 'fontweight':'bold'})\n",
        "fig.set_size_inches(18,12)\n",
        "fig.text(0.5, 0.06, 'Frequency [Hz]', {'fontsize':20, 'fontweight':'bold'}, ha='center');\n",
        "fig.text(0.08, 0.5, 'Amplitude', {'fontsize':20, 'fontweight':'bold'}, va='center', rotation='vertical');"
      ],
      "metadata": {
        "id": "tSM8W5wDwJn0"
      },
      "execution_count": null,
      "outputs": []
    },
    {
      "cell_type": "markdown",
      "source": [
        "Spectograms"
      ],
      "metadata": {
        "id": "C8CuaUH1wQRs"
      }
    },
    {
      "cell_type": "code",
      "source": [
        "# Convert to spectrogram and display\n",
        "# adapted from https://aruno14.medium.com/comparaison-of-audio-representation-in-tensorflow-b6c33a83d77f\n",
        "spectrogram_yes_loud = tfio.audio.spectrogram(audio_yes_loud/1.0, nfft=2048, window=len(audio_yes_loud), stride=int(sr_yes_loud * 0.008))\n",
        "spectrogram_yes_quiet = tfio.audio.spectrogram(audio_yes_quiet/1.0, nfft=2048, window=len(audio_yes_quiet), stride=int(sr_yes_quiet * 0.008))\n",
        "spectrogram_no_loud = tfio.audio.spectrogram(audio_no_loud/1.0, nfft=2048, window=len(audio_no_loud), stride=int(sr_no_loud * 0.008))\n",
        "spectrogram_no_quiet = tfio.audio.spectrogram(audio_no_quiet/1.0, nfft=2048, window=len(audio_no_quiet), stride=int(sr_no_quiet * 0.008))\n",
        "\n",
        "# Plot the figure\n",
        "fig, ((ax1, ax2), (ax3, ax4)) = plt.subplots(nrows=2, ncols=2)\n",
        "ax1.imshow(tf.math.log(spectrogram_yes_loud).numpy(), aspect='auto')\n",
        "ax1.set_title(\"Yes Loud\", {'fontsize':20, 'fontweight':'bold'})\n",
        "ax2.imshow(tf.math.log(spectrogram_yes_quiet).numpy(), aspect='auto')\n",
        "ax2.set_title(\"Yes Quiet\", {'fontsize':20, 'fontweight':'bold'})\n",
        "ax3.imshow(tf.math.log(spectrogram_no_loud).numpy(), aspect='auto')\n",
        "ax3.set_title(\"No Loud\", {'fontsize':20, 'fontweight':'bold'})\n",
        "ax4.imshow(tf.math.log(spectrogram_no_quiet).numpy(), aspect='auto')\n",
        "ax4.set_title(\"No Quiet\", {'fontsize':20, 'fontweight':'bold'})\n",
        "fig.set_size_inches(18,12)"
      ],
      "metadata": {
        "id": "aie3bjwkwZws"
      },
      "execution_count": null,
      "outputs": []
    },
    {
      "cell_type": "markdown",
      "source": [
        "MFCC's"
      ],
      "metadata": {
        "id": "DhdeJ9XVwbvU"
      }
    },
    {
      "cell_type": "code",
      "source": [
        "# Convert to MFCC using the Mel Scale\n",
        "# adapted from: https://towardsdatascience.com/getting-to-know-the-mel-spectrogram-31bca3e2d9d0\n",
        "mfcc_yes_loud = librosa.power_to_db(librosa.feature.melspectrogram(\n",
        "    np.float32(audio_yes_loud), sr=sr_yes_loud, n_fft=2048, hop_length=512, n_mels=128), ref=np.max)\n",
        "mfcc_yes_quiet = librosa.power_to_db(librosa.feature.melspectrogram(\n",
        "    np.float32(audio_yes_quiet), sr=sr_yes_quiet, n_fft=2048, hop_length=512, n_mels=128), ref=np.max)\n",
        "mfcc_no_loud = librosa.power_to_db(librosa.feature.melspectrogram(\n",
        "    np.float32(audio_no_loud), sr=sr_no_loud, n_fft=2048, hop_length=512, n_mels=128), ref=np.max)\n",
        "mfcc_no_quiet = librosa.power_to_db(librosa.feature.melspectrogram(\n",
        "    np.float32(audio_no_quiet), sr=sr_no_quiet, n_fft=2048, hop_length=512, n_mels=128), ref=np.max)\n",
        "\n",
        "# Plot the figure\n",
        "fig, ((ax1, ax2), (ax3, ax4)) = plt.subplots(nrows=2, ncols=2)\n",
        "ax1.imshow(np.swapaxes(mfcc_yes_loud, 0 ,1), interpolation='nearest', cmap=cm.viridis, origin='lower', aspect='auto')\n",
        "ax1.set_title(\"Yes Loud\", {'fontsize':20, 'fontweight':'bold'})\n",
        "ax1.set_ylim(ax1.get_ylim()[::-1])\n",
        "ax2.imshow(np.swapaxes(mfcc_yes_quiet, 0 ,1), interpolation='nearest', cmap=cm.viridis, origin='lower', aspect='auto')\n",
        "ax2.set_title(\"Yes Quiet\", {'fontsize':20, 'fontweight':'bold'})\n",
        "ax2.set_ylim(ax2.get_ylim()[::-1])\n",
        "ax3.imshow(np.swapaxes(mfcc_no_loud, 0 ,1), interpolation='nearest', cmap=cm.viridis, origin='lower', aspect='auto')\n",
        "ax3.set_title(\"No Loud\", {'fontsize':20, 'fontweight':'bold'})\n",
        "ax3.set_ylim(ax3.get_ylim()[::-1])\n",
        "ax4.imshow(np.swapaxes(mfcc_no_quiet, 0 ,1), interpolation='nearest', cmap=cm.viridis, origin='lower', aspect='auto')\n",
        "ax4.set_title(\"No Quiet\", {'fontsize':20, 'fontweight':'bold'})\n",
        "ax4.set_ylim(ax4.get_ylim()[::-1])\n",
        "fig.set_size_inches(18,12)"
      ],
      "metadata": {
        "id": "cTu-4QV-wdek"
      },
      "execution_count": null,
      "outputs": []
    }
  ]
}