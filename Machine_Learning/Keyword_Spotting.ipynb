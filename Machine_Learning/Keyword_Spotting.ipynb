{
 "cells": [
  {
   "cell_type": "markdown",
   "id": "4ea81f67",
   "metadata": {},
   "source": [
    "# Keyword Spotting Model"
   ]
  },
  {
   "cell_type": "markdown",
   "id": "3de8764a",
   "metadata": {},
   "source": [
    "### by ReDay Zarra"
   ]
  },
  {
   "cell_type": "markdown",
   "id": "a84c36b2",
   "metadata": {},
   "source": [
    "Excellent data is crucial for building an effective machine learning model. Data collection is the most important part of machine learning and cannot be brushed aside. The majority of this project will focus on collecting sufficient data for the model to work properly, however this poses some issues. \n",
    "\n",
    "**My previous plan:** Collect data from microphones and **use rustling noises to determine whether patient was awake or not**. However, it is **extremely difficult** for me to collect enough data to identify rustling noises as a person waking up or not (**out of project scope**). \n",
    "\n",
    "**My new plan:** is to use the microphones to build a keyword spotting model."
   ]
  }
 ],
 "metadata": {
  "kernelspec": {
   "display_name": "Python 3 (ipykernel)",
   "language": "python",
   "name": "python3"
  },
  "language_info": {
   "codemirror_mode": {
    "name": "ipython",
    "version": 3
   },
   "file_extension": ".py",
   "mimetype": "text/x-python",
   "name": "python",
   "nbconvert_exporter": "python",
   "pygments_lexer": "ipython3",
   "version": "3.9.13"
  }
 },
 "nbformat": 4,
 "nbformat_minor": 5
}
