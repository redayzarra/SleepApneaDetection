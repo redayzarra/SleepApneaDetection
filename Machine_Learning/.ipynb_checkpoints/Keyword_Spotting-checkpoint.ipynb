{
 "cells": [
  {
   "cell_type": "markdown",
   "id": "4ea81f67",
   "metadata": {},
   "source": [
    "# Keyword Spotting Model"
   ]
  },
  {
   "cell_type": "markdown",
   "id": "3de8764a",
   "metadata": {},
   "source": [
    "### by ReDay Zarra"
   ]
  },
  {
   "cell_type": "markdown",
   "id": "a84c36b2",
   "metadata": {},
   "source": [
    "Excellent data is crucial for building an effective machine learning model. Data collection is the most important part of machine learning and cannot be brushed aside. The majority of this project will focus on collecting sufficient data for the model to work properly, however this poses some issues. \n",
    "\n",
    "**My previous plan:** Collect data from microphones and **use rustling noises to determine whether patient was awake or not**. However, it is **extremely difficult** for me to collect enough data to identify rustling noises as a person waking up or not (**out of project scope**). \n",
    "\n",
    "**My new plan:** Use the microphones to **build a keyword spotting model**. A keyword spotting model constantly listens for audio to intialize any given processes. For example, \"OK Google\" will initialize your smartphone assistant. Use the keyword spotting model to allow patients to have **ease of access to logging their sleep apnea**. \n",
    "\n",
    "1. A patient who wakes up at night will only have to speak a few words (chosen keyword) before returning back to bed. \n",
    "\n",
    "2. A dim unintrusive light will go off to verify the model picked up on the keyword. \n",
    "\n",
    "3. The system will keep track of the exact time and data of when the keyword was spoken\n",
    "\n",
    "4. Meanwhile, environmental sensors are recording and sending data to the server at all times\n",
    "\n",
    "5. This process repeats for several days until we finally have a new dataset from the server\n",
    "\n",
    "6. This dataset has uses the environmental sensor data as features and the keyword initialization as the dependent variable.\n",
    "\n",
    "7. We can now build a CUSTOM model that can determine when someone is woken up WITHOUT the keyword.\n",
    "\n",
    "8. New model can be uploaded back to original device through the raspberry pi\n",
    "\n",
    "9. Continue refining the model."
   ]
  },
  {
   "cell_type": "code",
   "execution_count": null,
   "id": "397489d3",
   "metadata": {},
   "outputs": [],
   "source": [
    "!wget https://github.com/tensorflow/tensorflow/archive/v2.4.1.zip\n",
    "!unzip v2.4.1.zip &> 0\n",
    "!mv tensorflow-2.4.1/ tensorflow/"
   ]
  }
 ],
 "metadata": {
  "kernelspec": {
   "display_name": "Python 3 (ipykernel)",
   "language": "python",
   "name": "python3"
  },
  "language_info": {
   "codemirror_mode": {
    "name": "ipython",
    "version": 3
   },
   "file_extension": ".py",
   "mimetype": "text/x-python",
   "name": "python",
   "nbconvert_exporter": "python",
   "pygments_lexer": "ipython3",
   "version": "3.9.13"
  }
 },
 "nbformat": 4,
 "nbformat_minor": 5
}
