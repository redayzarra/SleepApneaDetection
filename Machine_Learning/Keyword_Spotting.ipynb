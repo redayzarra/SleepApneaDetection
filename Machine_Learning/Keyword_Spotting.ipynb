{
 "cells": [
  {
   "cell_type": "markdown",
   "id": "4ea81f67",
   "metadata": {},
   "source": [
    "# Keyword Spotting Model"
   ]
  },
  {
   "cell_type": "markdown",
   "id": "3de8764a",
   "metadata": {},
   "source": [
    "### by ReDay Zarra"
   ]
  },
  {
   "cell_type": "markdown",
   "id": "a84c36b2",
   "metadata": {},
   "source": [
    "Excellent data is crucial for building an effective machine learning model. Data collection is the most important part of machine learning and cannot be brushed aside. The majority of this project will focus on collecting sufficient data for the model to work properly, however this poses some issues. \n",
    "\n",
    "**My previous plan:** Collect data from microphones and **use rustling noises to determine whether patient was awake or not**. However, it is **extremely difficult** for me to collect enough data to identify rustling noises as a person waking up or not (**out of project scope**). \n",
    "\n",
    "**My new plan:** Use the microphones to **build a keyword spotting model**. A keyword spotting model constantly listens for audio to intialize any given processes. For example, \"OK Google\" will initialize your smartphone assistant. Use the keyword spotting model to allow patients to have **ease of access to logging their sleep apnea**. \n",
    "\n",
    "1. A patient who wakes up at night will only have to speak a few words (chosen keyword) before returning back to bed. \n",
    "\n",
    "2. A dim unintrusive light will go off to verify the model picked up on the keyword. \n",
    "\n",
    "3. The system will keep track of the exact time and data of when the keyword was spoken\n",
    "\n",
    "4. Meanwhile, environmental sensors are recording and sending data to the server at all times\n",
    "\n",
    "5. This process repeats for several days until we finally have a new dataset from the server\n",
    "\n",
    "6. This dataset has uses the environmental sensor data as features and the keyword initialization as the dependent variable.\n",
    "\n",
    "7. We can now build a CUSTOM model that can determine when someone is woken up WITHOUT the keyword.\n",
    "\n",
    "8. New model can be uploaded back to original device through the raspberry pi\n",
    "\n",
    "9. Continue refining the model."
   ]
  },
  {
   "cell_type": "code",
   "execution_count": 11,
   "id": "95643ec8",
   "metadata": {},
   "outputs": [
    {
     "name": "stderr",
     "output_type": "stream",
     "text": [
      "  % Total    % Received % Xferd  Average Speed   Time    Time     Time  Current\n",
      "                                 Dload  Upload   Total   Spent    Left  Speed\n",
      "\n",
      "  0     0    0     0    0     0      0      0 --:--:-- --:--:-- --:--:--     0\n",
      "  0     0    0     0    0     0      0      0 --:--:-- --:--:-- --:--:--     0\n",
      "\n",
      "100 3392k    0 3392k    0     0  3403k      0 --:--:-- --:--:-- --:--:-- 3403k\n",
      "100 11.1M    0 11.1M    0     0  5731k      0 --:--:--  0:00:01 --:--:-- 8054k\n",
      "100 17.6M    0 17.6M    0     0  6031k      0 --:--:--  0:00:02 --:--:-- 7339k\n",
      "100 25.6M    0 25.6M    0     0  6560k      0 --:--:--  0:00:03 --:--:-- 7609k\n",
      "100 37.9M    0 37.9M    0     0  7769k      0 --:--:--  0:00:04 --:--:-- 8855k\n",
      "100 49.3M    0 49.3M    0     0  8431k      0 --:--:--  0:00:05 --:--:-- 9434k\n",
      "100 55.8M    0 55.8M    0     0  8169k      0 --:--:--  0:00:06 --:--:-- 9143k\n",
      "100 63.2M    0 63.2M    0     0  8101k      0 --:--:--  0:00:07 --:--:-- 9341k\n",
      "100 66.1M    0 66.1M    0     0  8262k      0 --:--:--  0:00:08 --:--:-- 9882k\n",
      "'Expand-Archive' is not recognized as an internal or external command,\n",
      "operable program or batch file.\n"
     ]
    }
   ],
   "source": []
  },
  {
   "cell_type": "markdown",
   "id": "19855c61",
   "metadata": {},
   "source": []
  }
 ],
 "metadata": {
  "kernelspec": {
   "display_name": "Python 3 (ipykernel)",
   "language": "python",
   "name": "python3"
  },
  "language_info": {
   "codemirror_mode": {
    "name": "ipython",
    "version": 3
   },
   "file_extension": ".py",
   "mimetype": "text/x-python",
   "name": "python",
   "nbconvert_exporter": "python",
   "pygments_lexer": "ipython3",
   "version": "3.9.13"
  }
 },
 "nbformat": 4,
 "nbformat_minor": 5
}
