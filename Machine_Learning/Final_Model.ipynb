{
  "nbformat": 4,
  "nbformat_minor": 0,
  "metadata": {
    "colab": {
      "provenance": []
    },
    "kernelspec": {
      "name": "python3",
      "display_name": "Python 3"
    },
    "language_info": {
      "name": "python"
    }
  },
  "cells": [
    {
      "cell_type": "markdown",
      "source": [
        "transfer code from colab\n"
      ],
      "metadata": {
        "id": "K9ZSoeKkfsGZ"
      }
    },
    {
      "cell_type": "code",
      "execution_count": null,
      "metadata": {
        "id": "Z-2f9AQnfoGh"
      },
      "outputs": [],
      "source": []
    }
  ]
}