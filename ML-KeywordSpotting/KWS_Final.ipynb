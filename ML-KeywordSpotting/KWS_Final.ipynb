{
 "cells": [
  {
   "cell_type": "code",
   "execution_count": 1,
   "id": "d7f7cf07",
   "metadata": {},
   "outputs": [
    {
     "data": {
      "text/plain": [
       "'2.11.0'"
      ]
     },
     "execution_count": 1,
     "metadata": {},
     "output_type": "execute_result"
    }
   ],
   "source": [
    "import tensorflow as tf\n",
    "from keras.preprocessing.image import ImageDataGenerator\n",
    "tf.__version__"
   ]
  },
  {
   "cell_type": "code",
   "execution_count": 2,
   "id": "2309b571",
   "metadata": {},
   "outputs": [
    {
     "name": "stdout",
     "output_type": "stream",
     "text": [
      "Found 168 images belonging to 3 classes.\n",
      "Found 36 images belonging to 3 classes.\n",
      "Found 36 images belonging to 3 classes.\n"
     ]
    }
   ],
   "source": [
    "# Image Data Generator\n",
    "train_datagen = ImageDataGenerator(\n",
    "    rescale=1./255,\n",
    "    shear_range=0.2,\n",
    "    zoom_range=0.2,\n",
    ")\n",
    "\n",
    "test_datagen = ImageDataGenerator(rescale=1./255)\n",
    "\n",
    "batchSize = 16\n",
    "size = 224\n",
    "\n",
    "training_set = train_datagen.flow_from_directory(\n",
    "    \"data/train\",\n",
    "    target_size=(size, size),\n",
    "    batch_size=batchSize,\n",
    "    class_mode=\"categorical\"\n",
    ")\n",
    "\n",
    "validation_set = test_datagen.flow_from_directory(\n",
    "    \"data/validation\",\n",
    "    target_size=(size, size),\n",
    "    batch_size=batchSize,\n",
    "    class_mode=\"categorical\"\n",
    ")\n",
    "\n",
    "test_set = test_datagen.flow_from_directory(\n",
    "    \"data/test\",\n",
    "    target_size=(size, size),\n",
    "    batch_size=batchSize,\n",
    "    class_mode=\"categorical\",\n",
    "    shuffle=False\n",
    ")"
   ]
  }
 ],
 "metadata": {
  "kernelspec": {
   "display_name": "Python 3 (ipykernel)",
   "language": "python",
   "name": "python3"
  },
  "language_info": {
   "codemirror_mode": {
    "name": "ipython",
    "version": 3
   },
   "file_extension": ".py",
   "mimetype": "text/x-python",
   "name": "python",
   "nbconvert_exporter": "python",
   "pygments_lexer": "ipython3",
   "version": "3.9.13"
  }
 },
 "nbformat": 4,
 "nbformat_minor": 5
}
