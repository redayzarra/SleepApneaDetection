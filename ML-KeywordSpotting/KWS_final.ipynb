{
 "cells": [
  {
   "cell_type": "code",
   "execution_count": 30,
   "id": "7e5f9590",
   "metadata": {},
   "outputs": [
    {
     "data": {
      "text/plain": [
       "'2.11.0'"
      ]
     },
     "execution_count": 30,
     "metadata": {},
     "output_type": "execute_result"
    }
   ],
   "source": [
    "import tensorflow as tf\n",
    "from keras.preprocessing.image import ImageDataGenerator\n",
    "tf.__version__"
   ]
  },
  {
   "cell_type": "code",
   "execution_count": 31,
   "id": "bcd1cfad",
   "metadata": {},
   "outputs": [
    {
     "name": "stdout",
     "output_type": "stream",
     "text": [
      "Found 168 images belonging to 3 classes.\n",
      "Found 36 images belonging to 3 classes.\n",
      "Found 36 images belonging to 3 classes.\n"
     ]
    }
   ],
   "source": [
    "# Image Data Generator\n",
    "train_datagen = ImageDataGenerator(\n",
    "    rescale=1./255,\n",
    "    shear_range=0.2,\n",
    "    zoom_range=0.2,\n",
    ")\n",
    "\n",
    "test_datagen = ImageDataGenerator(rescale=1./255)\n",
    "\n",
    "batchSize = 16\n",
    "size = 224\n",
    "\n",
    "training_set = train_datagen.flow_from_directory(\n",
    "    \"data/train\",\n",
    "    target_size=(size, size),\n",
    "    batch_size=batchSize,\n",
    "    class_mode=\"categorical\"\n",
    ")\n",
    "\n",
    "validation_set = test_datagen.flow_from_directory(\n",
    "    \"data/validation\",\n",
    "    target_size=(size, size),\n",
    "    batch_size=batchSize,\n",
    "    class_mode=\"categorical\"\n",
    ")\n",
    "\n",
    "test_set = test_datagen.flow_from_directory(\n",
    "    \"data/test\",\n",
    "    target_size=(size, size),\n",
    "    batch_size=batchSize,\n",
    "    class_mode=\"categorical\",\n",
    "    shuffle=False\n",
    ")"
   ]
  },
  {
   "cell_type": "code",
   "execution_count": 33,
   "id": "857b1840",
   "metadata": {},
   "outputs": [],
   "source": [
    "import tensorflow as tf\n",
    "from tensorflow.keras.applications import MobileNetV2\n",
    "from tensorflow.keras.layers import GlobalAveragePooling2D, Dense\n",
    "from tensorflow.keras.models import Model\n",
    "from tensorflow.keras.optimizers import Adam"
   ]
  },
  {
   "cell_type": "code",
   "execution_count": 34,
   "id": "d4a06599",
   "metadata": {
    "scrolled": true
   },
   "outputs": [
    {
     "name": "stdout",
     "output_type": "stream",
     "text": [
      "Downloading data from https://storage.googleapis.com/tensorflow/keras-applications/mobilenet_v2/mobilenet_v2_weights_tf_dim_ordering_tf_kernels_1.0_224_no_top.h5\n",
      "9406464/9406464 [==============================] - 1s 0us/step\n"
     ]
    }
   ],
   "source": [
    "base_model = MobileNetV2(weights='imagenet', include_top=False, input_shape=(size, size, 3))"
   ]
  },
  {
   "cell_type": "code",
   "execution_count": 36,
   "id": "3d8ff984",
   "metadata": {},
   "outputs": [],
   "source": [
    "x = base_model.output\n",
    "x = GlobalAveragePooling2D()(x)\n",
    "x = Dense(3, activation='softmax')(x)\n",
    "\n",
    "model = Model(inputs=base_model.input, outputs=x)\n",
    "\n",
    "for layer in base_model.layers:\n",
    "    layer.trainable = False"
   ]
  },
  {
   "cell_type": "code",
   "execution_count": 38,
   "id": "7f92266d",
   "metadata": {},
   "outputs": [],
   "source": [
    "model.compile(optimizer=Adam(learning_rate=0.001), loss='categorical_crossentropy', metrics=['accuracy'])"
   ]
  },
  {
   "cell_type": "code",
   "execution_count": 40,
   "id": "29029e80",
   "metadata": {},
   "outputs": [
    {
     "name": "stdout",
     "output_type": "stream",
     "text": [
      "Epoch 1/20\n",
      "11/11 [==============================] - 4s 396ms/step - loss: 0.3706 - accuracy: 0.8690 - val_loss: 0.4094 - val_accuracy: 0.8056\n",
      "Epoch 2/20\n",
      "11/11 [==============================] - 4s 386ms/step - loss: 0.3391 - accuracy: 0.9107 - val_loss: 0.3731 - val_accuracy: 0.9167\n",
      "Epoch 3/20\n",
      "11/11 [==============================] - 4s 397ms/step - loss: 0.2859 - accuracy: 0.8929 - val_loss: 0.3520 - val_accuracy: 0.8889\n",
      "Epoch 4/20\n",
      "11/11 [==============================] - 4s 383ms/step - loss: 0.2758 - accuracy: 0.9107 - val_loss: 0.3227 - val_accuracy: 0.9167\n",
      "Epoch 5/20\n",
      "11/11 [==============================] - 4s 390ms/step - loss: 0.2542 - accuracy: 0.9226 - val_loss: 0.3095 - val_accuracy: 1.0000\n",
      "Epoch 6/20\n",
      "11/11 [==============================] - 4s 392ms/step - loss: 0.2628 - accuracy: 0.9048 - val_loss: 0.2929 - val_accuracy: 0.8889\n",
      "Epoch 7/20\n",
      "11/11 [==============================] - 4s 390ms/step - loss: 0.2371 - accuracy: 0.9286 - val_loss: 0.2770 - val_accuracy: 0.9722\n",
      "Epoch 8/20\n",
      "11/11 [==============================] - 4s 396ms/step - loss: 0.2251 - accuracy: 0.9286 - val_loss: 0.2675 - val_accuracy: 0.8889\n",
      "Epoch 9/20\n",
      "11/11 [==============================] - 4s 389ms/step - loss: 0.2128 - accuracy: 0.9345 - val_loss: 0.2669 - val_accuracy: 0.8889\n",
      "Epoch 10/20\n",
      "11/11 [==============================] - 4s 401ms/step - loss: 0.2214 - accuracy: 0.9048 - val_loss: 0.2489 - val_accuracy: 0.9722\n",
      "Epoch 11/20\n",
      "11/11 [==============================] - 4s 390ms/step - loss: 0.2049 - accuracy: 0.9286 - val_loss: 0.2378 - val_accuracy: 0.9444\n",
      "Epoch 12/20\n",
      "11/11 [==============================] - 4s 391ms/step - loss: 0.1976 - accuracy: 0.9226 - val_loss: 0.2343 - val_accuracy: 0.9722\n",
      "Epoch 13/20\n",
      "11/11 [==============================] - 4s 389ms/step - loss: 0.1778 - accuracy: 0.9583 - val_loss: 0.2225 - val_accuracy: 0.9167\n",
      "Epoch 14/20\n",
      "11/11 [==============================] - 5s 413ms/step - loss: 0.2096 - accuracy: 0.9226 - val_loss: 0.2158 - val_accuracy: 0.9167\n",
      "Epoch 15/20\n",
      "11/11 [==============================] - 4s 391ms/step - loss: 0.1799 - accuracy: 0.9524 - val_loss: 0.2087 - val_accuracy: 0.9722\n",
      "Epoch 16/20\n",
      "11/11 [==============================] - 4s 383ms/step - loss: 0.1810 - accuracy: 0.9405 - val_loss: 0.2006 - val_accuracy: 0.9722\n",
      "Epoch 17/20\n",
      "11/11 [==============================] - 4s 396ms/step - loss: 0.1764 - accuracy: 0.9464 - val_loss: 0.1971 - val_accuracy: 0.9722\n",
      "Epoch 18/20\n",
      "11/11 [==============================] - 4s 387ms/step - loss: 0.1541 - accuracy: 0.9643 - val_loss: 0.1947 - val_accuracy: 0.9722\n",
      "Epoch 19/20\n",
      "11/11 [==============================] - 4s 387ms/step - loss: 0.1627 - accuracy: 0.9226 - val_loss: 0.1948 - val_accuracy: 0.9444\n",
      "Epoch 20/20\n",
      "11/11 [==============================] - 4s 385ms/step - loss: 0.1549 - accuracy: 0.9524 - val_loss: 0.1948 - val_accuracy: 0.9444\n",
      "3/3 [==============================] - 1s 224ms/step - loss: 0.2769 - accuracy: 0.9167\n",
      "Test Loss: 0.2769, Test Accuracy: 0.9167\n"
     ]
    }
   ],
   "source": [
    "epochs = 20\n",
    "\n",
    "history = model.fit(\n",
    "    training_set,\n",
    "    epochs=epochs,\n",
    "    validation_data=validation_set,\n",
    "    steps_per_epoch=len(training_set),\n",
    "    validation_steps=len(validation_set)\n",
    ")\n",
    "\n",
    "test_loss, test_accuracy = model.evaluate(test_set)\n",
    "print(\"Test Loss: {:.4f}, Test Accuracy: {:.4f}\".format(test_loss, test_accuracy))"
   ]
  },
  {
   "cell_type": "code",
   "execution_count": 41,
   "id": "9aa1bcc4",
   "metadata": {},
   "outputs": [
    {
     "name": "stderr",
     "output_type": "stream",
     "text": [
      "WARNING:absl:Found untraced functions such as _jit_compiled_convolution_op, _jit_compiled_convolution_op, _jit_compiled_convolution_op, _jit_compiled_convolution_op, _jit_compiled_convolution_op while saving (showing 5 of 53). These functions will not be directly callable after loading.\n"
     ]
    },
    {
     "name": "stdout",
     "output_type": "stream",
     "text": [
      "INFO:tensorflow:Assets written to: C:\\Users\\reday\\AppData\\Local\\Temp\\tmpj8lwdnx6\\assets\n"
     ]
    },
    {
     "name": "stderr",
     "output_type": "stream",
     "text": [
      "INFO:tensorflow:Assets written to: C:\\Users\\reday\\AppData\\Local\\Temp\\tmpj8lwdnx6\\assets\n"
     ]
    }
   ],
   "source": [
    "import tensorflow as tf\n",
    "\n",
    "# Convert the model to TensorFlow Lite format\n",
    "converter = tf.lite.TFLiteConverter.from_keras_model(model)\n",
    "converter.optimizations = [tf.lite.Optimize.DEFAULT]\n",
    "\n",
    "# Perform post-training quantization\n",
    "quantized_tflite_model = converter.convert()\n"
   ]
  },
  {
   "cell_type": "code",
   "execution_count": 42,
   "id": "1444ea8e",
   "metadata": {},
   "outputs": [],
   "source": [
    "with open('quantized_model.tflite', 'wb') as f:\n",
    "    f.write(quantized_tflite_model)"
   ]
  }
 ],
 "metadata": {
  "kernelspec": {
   "display_name": "Python 3 (ipykernel)",
   "language": "python",
   "name": "python3"
  },
  "language_info": {
   "codemirror_mode": {
    "name": "ipython",
    "version": 3
   },
   "file_extension": ".py",
   "mimetype": "text/x-python",
   "name": "python",
   "nbconvert_exporter": "python",
   "pygments_lexer": "ipython3",
   "version": "3.9.13"
  }
 },
 "nbformat": 4,
 "nbformat_minor": 5
}
